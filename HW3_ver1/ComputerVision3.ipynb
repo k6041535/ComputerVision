{
 "cells": [
  {
   "cell_type": "code",
   "execution_count": 2,
   "metadata": {},
   "outputs": [
    {
     "data": {
      "image/png": "[encoded data removed]",
      "text/plain": [
       "<Figure size 432x288 with 1 Axes>"
      ]
     },
     "metadata": {
      "needs_background": "light"
     },
     "output_type": "display_data"
    }
   ],
   "source": [
    "import cv2 \n",
    "import matplotlib.pyplot as plt\n",
    "import numpy as np\n",
    "\n",
    "lena = cv2.imread('C:/Users/kaiyuchou/test_data/lena.bmp', cv2.IMREAD_GRAYSCALE)\n",
    "\n",
    "x =  lena.shape[0] #寬尺寸\n",
    "y =  lena.shape[1] #長尺寸\n",
    "\n",
    "histogram = np.zeros(256, int)\n",
    "\n",
    "for i in range(0, x, 1):\n",
    "    for j in range(0, y, 1):\n",
    "        histogram[lena[i][j]] += 1\n",
    "        \n",
    "cv2.imwrite('histogram.jpg', histogram)\n",
    "plt.bar(range(len(histogram)), histogram)\n",
    "plt.show()"
   ]
  },
  {
   "cell_type": "code",
   "execution_count": 3,
   "metadata": {
    "scrolled": true
   },
   "outputs": [
    {
     "data": {
      "image/png": "[encoded data removed]",
      "text/plain": [
       "<Figure size 432x288 with 1 Axes>"
      ]
     },
     "metadata": {
      "needs_background": "light"
     },
     "output_type": "display_data"
    }
   ],
   "source": [
    "import cv2 \n",
    "import matplotlib.pyplot as plt\n",
    "import numpy as np\n",
    "\n",
    "lena = cv2.imread('C:/Users/kaiyuchou/test_data/lena.bmp', cv2.IMREAD_GRAYSCALE)\n",
    "lena_divide = lena.copy()\n",
    "\n",
    "x =  lena.shape[0] #寬尺寸\n",
    "y =  lena.shape[1] #長尺寸\n",
    "\n",
    "#lena = np.zeros(lena.shape, int)\n",
    "lena_divide = np.zeros(lena.shape, int)\n",
    "divide_histogram = np.zeros(256, int)\n",
    "\n",
    "for i in range(0, x, 1):\n",
    "    for j in range(0, y, 1):\n",
    "        a = lena[i][j]\n",
    "        b = a/3\n",
    "        lena_divide[i][j] = b\n",
    "\n",
    "cv2.imwrite('lena_divide.bmp', lena_divide)\n",
    "#plt.imshow(lena_divide, cmap = 'gray')\n",
    "        \n",
    "histogram = np.zeros(256, int)\n",
    "\n",
    "for i in range(0, x, 1):\n",
    "    for j in range(0, y, 1):\n",
    "        divide_histogram[lena_divide[i][j]] += 1\n",
    "        \n",
    "cv2.imwrite('divide_histogram.jpg', divide_histogram)\n",
    "plt.bar(range(len(divide_histogram)), divide_histogram)\n",
    "plt.show()"
   ]
  },
  {
   "cell_type": "code",
   "execution_count": 15,
   "metadata": {},
   "outputs": [
    {
     "data": {
      "image/png": "[encoded data removed]",
      "text/plain": [
       "<Figure size 432x288 with 1 Axes>"
      ]
     },
     "metadata": {
      "needs_background": "light"
     },
     "output_type": "display_data"
    }
   ],
   "source": [
    "import cv2 \n",
    "import matplotlib.pyplot as plt\n",
    "import numpy as np\n",
    "\n",
    "lena = cv2.imread('C:/Users/kaiyuchou/test_data/lena.bmp', cv2.IMREAD_GRAYSCALE)\n",
    "lena_equa = lena.copy()\n",
    "\n",
    "x =  lena.shape[0] #寬尺寸\n",
    "y =  lena.shape[1] #長尺寸\n",
    "\n",
    "lena_equa = np.zeros(lena.shape, int)\n",
    "equa_histogram = np.zeros(256, int)\n",
    "lena_equa_list = np.zeros(256, int)\n",
    "\n",
    "for i in range(0, 256, 1):\n",
    "    lena_equa_list[i] = 255 * np.sum(divide_histogram[0 : i + 1]) / (x * y)\n",
    "    #print(lena_equa_list)\n",
    "    \n",
    "for i in range(0, x, 1):\n",
    "    for j in range(0, y, 1):\n",
    "        a = lena_divide[i][j]\n",
    "        lena_equa[i][j] = lena_equa_list[a]\n",
    "        \n",
    "cv2.imwrite('lena_equa.bmp', lena_equa)\n",
    "#plt.imshow(lena_equa, cmap = 'gray')\n",
    "\n",
    "for i in range(0, x, 1):\n",
    "    for j in range(0, y, 1):\n",
    "        equa_histogram[lena_equa[i][j]] += 1\n",
    "        \n",
    "cv2.imwrite('equa_histogram.jpg', equa_histogram)\n",
    "plt.bar(range(len(equa_histogram)), equa_histogram)\n",
    "plt.show()"
   ]
  },
  {
   "cell_type": "code",
   "execution_count": null,
   "metadata": {},
   "outputs": [],
   "source": []
  }
 ],
 "metadata": {
  "kernelspec": {
   "display_name": "Python 3",
   "language": "python",
   "name": "python3"
  },
  "language_info": {
   "codemirror_mode": {
    "name": "ipython",
    "version": 3
   },
   "file_extension": ".py",
   "mimetype": "text/x-python",
   "name": "python",
   "nbconvert_exporter": "python",
   "pygments_lexer": "ipython3",
   "version": "3.8.3"
  }
 },
 "nbformat": 4,
 "nbformat_minor": 4
}
